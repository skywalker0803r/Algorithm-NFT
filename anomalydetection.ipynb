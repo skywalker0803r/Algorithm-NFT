{
  "nbformat": 4,
  "nbformat_minor": 0,
  "metadata": {
    "colab": {
      "name": "anomalydetection.ipynb",
      "provenance": [],
      "authorship_tag": "ABX9TyNuycEvwfZ6dTkMCkH8PkLh",
      "include_colab_link": true
    },
    "kernelspec": {
      "name": "python3",
      "display_name": "Python 3"
    },
    "language_info": {
      "name": "python"
    }
  },
  "cells": [
    {
      "cell_type": "markdown",
      "metadata": {
        "id": "view-in-github",
        "colab_type": "text"
      },
      "source": [
        "<a href=\"https://colab.research.google.com/github/skywalker0803r/Algorithm-NFT/blob/main/anomalydetection.ipynb\" target=\"_parent\"><img src=\"https://colab.research.google.com/assets/colab-badge.svg\" alt=\"Open In Colab\"/></a>"
      ]
    },
    {
      "cell_type": "code",
      "execution_count": 1,
      "metadata": {
        "colab": {
          "base_uri": "https://localhost:8080/",
          "height": 925
        },
        "id": "KgptmW2xJQjh",
        "outputId": "d79a211b-15fb-4ff6-fb37-bb443a35d914"
      },
      "outputs": [
        {
          "output_type": "stream",
          "name": "stdout",
          "text": [
            "(60000, 784)\n",
            "(10000, 784)\n",
            "Model: \"autoencoder\"\n",
            "_________________________________________________________________\n",
            " Layer (type)                Output Shape              Param #   \n",
            "=================================================================\n",
            " input_1 (InputLayer)        [(None, 784)]             0         \n",
            "                                                                 \n",
            " dense (Dense)               (None, 32)                25120     \n",
            "                                                                 \n",
            " dense_1 (Dense)             (None, 784)               25872     \n",
            "                                                                 \n",
            "=================================================================\n",
            "Total params: 50,992\n",
            "Trainable params: 50,992\n",
            "Non-trainable params: 0\n",
            "_________________________________________________________________\n",
            "None\n",
            "Epoch 1/10\n",
            "235/235 [==============================] - 2s 7ms/step - loss: 0.0481\n",
            "Epoch 2/10\n",
            "235/235 [==============================] - 2s 7ms/step - loss: 0.0252\n",
            "Epoch 3/10\n",
            "235/235 [==============================] - 2s 7ms/step - loss: 0.0212\n",
            "Epoch 4/10\n",
            "235/235 [==============================] - 2s 7ms/step - loss: 0.0199\n",
            "Epoch 5/10\n",
            "235/235 [==============================] - 2s 7ms/step - loss: 0.0194\n",
            "Epoch 6/10\n",
            "235/235 [==============================] - 2s 7ms/step - loss: 0.0192\n",
            "Epoch 7/10\n",
            "235/235 [==============================] - 2s 7ms/step - loss: 0.0188\n",
            "Epoch 8/10\n",
            "235/235 [==============================] - 2s 7ms/step - loss: 0.0184\n",
            "Epoch 9/10\n",
            "235/235 [==============================] - 2s 7ms/step - loss: 0.0180\n",
            "Epoch 10/10\n",
            "235/235 [==============================] - 2s 7ms/step - loss: 0.0179\n"
          ]
        },
        {
          "output_type": "display_data",
          "data": {
            "image/png": "[encoded data removed]",
            "text/plain": [
              "<Figure size 432x288 with 1 Axes>"
            ]
          },
          "metadata": {
            "needs_background": "light"
          }
        }
      ],
      "source": [
        "import requests\n",
        "from keras.datasets import mnist\n",
        "import numpy as np\n",
        "\n",
        "# data\n",
        "(x_train, _), (x_test, _) = mnist.load_data()\n",
        "x_train = x_train.astype('float32') / 255.\n",
        "x_test = x_test.astype('float32') / 255.\n",
        "x_train = x_train.reshape((len(x_train), np.prod(x_train.shape[1:])))\n",
        "x_test = x_test.reshape((len(x_test), np.prod(x_test.shape[1:])))\n",
        "print(x_train.shape)\n",
        "print(x_test.shape)\n",
        "\n",
        "# model\n",
        "url = 'https://gist.githubusercontent.com/skywalker0803r/34d37597170cbdcb98395f37a0ec073a/raw/f2d1d718d639eb1914ac01f3c69599fd9ab9946f/anomalydetection.py'\n",
        "exec(requests.get(url).text)\n",
        "model = anomalydetection(input_dim=x_train.shape[1],encoding_dim=32)\n",
        "model.train(x_train,epochs=10,batch_size=256)"
      ]
    },
    {
      "cell_type": "markdown",
      "source": [
        "# 正常樣本"
      ],
      "metadata": {
        "id": "WBY4e3rHREwC"
      }
    },
    {
      "cell_type": "code",
      "source": [
        "sample = x_test[0].reshape(28,28)\n",
        "plt.imshow(sample)\n",
        "plt.show()\n",
        "print('重建損失')\n",
        "model.predict(sample.reshape(1,-1))"
      ],
      "metadata": {
        "colab": {
          "base_uri": "https://localhost:8080/",
          "height": 300
        },
        "id": "eGuoZOcwPAbX",
        "outputId": "9cab83ae-ab84-4c10-b795-9d9d56fd9d54"
      },
      "execution_count": 2,
      "outputs": [
        {
          "output_type": "display_data",
          "data": {
            "image/png": "[encoded data removed]",
            "text/plain": [
              "<Figure size 432x288 with 1 Axes>"
            ]
          },
          "metadata": {
            "needs_background": "light"
          }
        },
        {
          "output_type": "stream",
          "name": "stdout",
          "text": [
            "重建損失\n"
          ]
        },
        {
          "output_type": "execute_result",
          "data": {
            "text/plain": [
              "0.0149195315"
            ]
          },
          "metadata": {},
          "execution_count": 2
        }
      ]
    },
    {
      "cell_type": "markdown",
      "source": [
        "# 異常樣本"
      ],
      "metadata": {
        "id": "EtNqVwIMRGAw"
      }
    },
    {
      "cell_type": "code",
      "source": [
        "sample = cv2.imread('/content/doge.jpg')\n",
        "sample = cv2.cvtColor(sample, cv2.COLOR_BGR2GRAY)\n",
        "print(sample.shape)\n",
        "plt.imshow(sample)\n",
        "plt.show()\n",
        "print('重建損失')\n",
        "model.predict(sample.reshape(1,-1))"
      ],
      "metadata": {
        "colab": {
          "base_uri": "https://localhost:8080/",
          "height": 317
        },
        "id": "UnZuJGJ9RG8O",
        "outputId": "22fd0e2d-14ba-4110-a442-be76953d34f9"
      },
      "execution_count": 3,
      "outputs": [
        {
          "output_type": "stream",
          "name": "stdout",
          "text": [
            "(28, 28)\n"
          ]
        },
        {
          "output_type": "display_data",
          "data": {
            "image/png": "[encoded data removed]",
            "text/plain": [
              "<Figure size 432x288 with 1 Axes>"
            ]
          },
          "metadata": {
            "needs_background": "light"
          }
        },
        {
          "output_type": "stream",
          "name": "stdout",
          "text": [
            "重建損失\n"
          ]
        },
        {
          "output_type": "execute_result",
          "data": {
            "text/plain": [
              "17253.828"
            ]
          },
          "metadata": {},
          "execution_count": 3
        }
      ]
    },
    {
      "cell_type": "code",
      "source": [
        ""
      ],
      "metadata": {
        "id": "OSY04X6_SJgu"
      },
      "execution_count": 3,
      "outputs": []
    }
  ]
}